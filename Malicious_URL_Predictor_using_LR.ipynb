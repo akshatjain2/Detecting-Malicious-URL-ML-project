{
  "nbformat": 4,
  "nbformat_minor": 0,
  "metadata": {
    "colab": {
      "name": "Malicious URL Predictor using LR ",
      "provenance": [],
      "collapsed_sections": [
        "9NDweq7kqQXS",
        "Q2Kzrx8970Zq",
        "xXws95jzBpcC",
        "aAJK7U4901sx",
        "0FpyYEaK0AXK",
        "cuOCCZ0N0ITx",
        "oybCUH9tzuJN",
        "BOMP_-ymzbuo",
        "LzpIslDdzVJh",
        "Kd2S7nCzzIpX"
      ],
      "include_colab_link": true
    },
    "kernelspec": {
      "name": "python3",
      "display_name": "Python 3"
    },
    "accelerator": "GPU",
    "gpuClass": "standard"
  },
  "cells": [
    {
      "cell_type": "markdown",
      "metadata": {
        "id": "view-in-github",
        "colab_type": "text"
      },
      "source": [
        "<a href=\"https://colab.research.google.com/github/akshatjain2/Detecting-Malicious-URL-ML-project/blob/main/Malicious_URL_Predictor_using_LR.ipynb\" target=\"_parent\"><img src=\"https://colab.research.google.com/assets/colab-badge.svg\" alt=\"Open In Colab\"/></a>"
      ]
    },
    {
      "cell_type": "code",
      "source": [
        ""
      ],
      "metadata": {
        "id": "NocfJswU8W2I"
      },
      "execution_count": null,
      "outputs": []
    },
    {
      "cell_type": "markdown",
      "metadata": {
        "id": "9NDweq7kqQXS"
      },
      "source": [
        "# Malicious URL Predictor\n",
        "\n",
        "---\n",
        "\n",
        "\n",
        "Author: Sparsh jain and Akshat Jain\n",
        "</br>\n",
        "Email: jsparsh11@gmail.com \n",
        "<br>\n",
        "Email: jainakshat.co@gmail.com\n",
        "</br>\n",
        "\n",
        "**Dataset:** https://github.com/NetsecExplained/Machine-Learning-for-Security-Analysts\n",
        "\n",
        "**Goal:** This workbook will walk you through the steps to build, train, test, and evaluate a malicious URL predictor using the Scikit-learn machine learning library\n",
        "\n",
        "**Outline:** \n",
        "* Initial Setup\n",
        "* Tokenization\n",
        "* Load Training Data\n",
        "* Vectorize Training Data\n",
        "* Load Testing Data\n",
        "* Train and Evaluate Models\n",
        "\n"
      ]
    },
    {
      "cell_type": "markdown",
      "metadata": {
        "id": "pWatBgyBZEZy"
      },
      "source": [
        "# Initial Setup\n",
        "We'll start by downloading the data and loading the needed libraries."
      ]
    },
    {
      "cell_type": "code",
      "metadata": {
        "id": "ctfYiOVJ10FF",
        "colab": {
          "base_uri": "https://localhost:8080/"
        },
        "outputId": "a06c1742-287e-4735-9335-9ce35cc18ec8"
      },
      "source": [
        "# Download data from Github\n",
        "! git clone https://github.com/NetsecExplained/Machine-Learning-for-Security-Analysts.git\n",
        "  \n",
        "\n",
        "# Install dependencies\n",
        "! pip install nltk sklearn pandas matplotlib seaborn\n",
        "data_dir = \"Machine-Learning-for-Security-Analysts/Malicious URLs.csv\""
      ],
      "execution_count": 1,
      "outputs": [
        {
          "output_type": "stream",
          "name": "stdout",
          "text": [
            "Cloning into 'Machine-Learning-for-Security-Analysts'...\n",
            "remote: Enumerating objects: 4186, done.\u001b[K\n",
            "remote: Total 4186 (delta 0), reused 0 (delta 0), pack-reused 4186\u001b[K\n",
            "Receiving objects: 100% (4186/4186), 14.75 MiB | 13.83 MiB/s, done.\n",
            "Resolving deltas: 100% (60/60), done.\n",
            "Looking in indexes: https://pypi.org/simple, https://us-python.pkg.dev/colab-wheels/public/simple/\n",
            "Requirement already satisfied: nltk in /usr/local/lib/python3.7/dist-packages (3.7)\n",
            "Requirement already satisfied: sklearn in /usr/local/lib/python3.7/dist-packages (0.0)\n",
            "Requirement already satisfied: pandas in /usr/local/lib/python3.7/dist-packages (1.3.5)\n",
            "Requirement already satisfied: matplotlib in /usr/local/lib/python3.7/dist-packages (3.2.2)\n",
            "Requirement already satisfied: seaborn in /usr/local/lib/python3.7/dist-packages (0.11.2)\n",
            "Requirement already satisfied: regex>=2021.8.3 in /usr/local/lib/python3.7/dist-packages (from nltk) (2022.6.2)\n",
            "Requirement already satisfied: click in /usr/local/lib/python3.7/dist-packages (from nltk) (7.1.2)\n",
            "Requirement already satisfied: tqdm in /usr/local/lib/python3.7/dist-packages (from nltk) (4.64.0)\n",
            "Requirement already satisfied: joblib in /usr/local/lib/python3.7/dist-packages (from nltk) (1.1.0)\n",
            "Requirement already satisfied: scikit-learn in /usr/local/lib/python3.7/dist-packages (from sklearn) (1.0.2)\n",
            "Requirement already satisfied: pytz>=2017.3 in /usr/local/lib/python3.7/dist-packages (from pandas) (2022.1)\n",
            "Requirement already satisfied: numpy>=1.17.3 in /usr/local/lib/python3.7/dist-packages (from pandas) (1.21.6)\n",
            "Requirement already satisfied: python-dateutil>=2.7.3 in /usr/local/lib/python3.7/dist-packages (from pandas) (2.8.2)\n",
            "Requirement already satisfied: six>=1.5 in /usr/local/lib/python3.7/dist-packages (from python-dateutil>=2.7.3->pandas) (1.15.0)\n",
            "Requirement already satisfied: pyparsing!=2.0.4,!=2.1.2,!=2.1.6,>=2.0.1 in /usr/local/lib/python3.7/dist-packages (from matplotlib) (3.0.9)\n",
            "Requirement already satisfied: cycler>=0.10 in /usr/local/lib/python3.7/dist-packages (from matplotlib) (0.11.0)\n",
            "Requirement already satisfied: kiwisolver>=1.0.1 in /usr/local/lib/python3.7/dist-packages (from matplotlib) (1.4.3)\n",
            "Requirement already satisfied: typing-extensions in /usr/local/lib/python3.7/dist-packages (from kiwisolver>=1.0.1->matplotlib) (4.1.1)\n",
            "Requirement already satisfied: scipy>=1.0 in /usr/local/lib/python3.7/dist-packages (from seaborn) (1.7.3)\n",
            "Requirement already satisfied: threadpoolctl>=2.0.0 in /usr/local/lib/python3.7/dist-packages (from scikit-learn->sklearn) (3.1.0)\n"
          ]
        }
      ]
    },
    {
      "cell_type": "code",
      "metadata": {
        "id": "z3llO4xb-eTK",
        "colab": {
          "base_uri": "https://localhost:8080/"
        },
        "outputId": "0d002c1f-65b0-4c5f-9fbb-fa4832ad0b1c"
      },
      "source": [
        "# Common imports\n",
        "import pandas as pd\n",
        "import numpy as np\n",
        "import matplotlib.pyplot as plt\n",
        "import random\n",
        "import re\n",
        "\n",
        "#The %matplotlib inline will make your plot outputs appear and be stored within the notebook.\n",
        "%matplotlib inline\n",
        "\n",
        "# Import Scikit-learn helper functions\n",
        "from sklearn.model_selection import train_test_split\n",
        "from sklearn.feature_extraction.text import TfidfVectorizer, CountVectorizer\n",
        "\n",
        "# Import Scikit-learn models\n",
        "from sklearn.linear_model import LogisticRegression\n",
        "from sklearn.naive_bayes import MultinomialNB\n",
        "\n",
        "# Import Scikit-learn metric functions\n",
        "from sklearn.metrics import confusion_matrix, classification_report\n",
        "import seaborn as sns\n",
        "\n",
        "\n",
        "\n",
        "print(\"Libraries Imported \\n\")"
      ],
      "execution_count": 2,
      "outputs": [
        {
          "output_type": "stream",
          "name": "stdout",
          "text": [
            "Libraries Imported \n",
            "\n"
          ]
        }
      ]
    },
    {
      "cell_type": "markdown",
      "metadata": {
        "id": "Q2Kzrx8970Zq"
      },
      "source": [
        "# Load the dataset\n",
        "With this set, we first need to load our CSV data."
      ]
    },
    {
      "cell_type": "code",
      "metadata": {
        "id": "Z6Cdtwmmd3w2",
        "colab": {
          "base_uri": "https://localhost:8080/"
        },
        "outputId": "7d5cc4c2-8f7f-4596-cad0-728cb1520182"
      },
      "source": [
        "# Load the training data\n",
        "print(\" Loading CSV Data...\")\n",
        "url_df = pd.read_csv(data_dir)\n",
        "\n",
        "test_url = url_df['URLs'][4]\n",
        "\n",
        "print(\"\\n CSV Data Loaded \\n\")"
      ],
      "execution_count": 3,
      "outputs": [
        {
          "output_type": "stream",
          "name": "stdout",
          "text": [
            " Loading CSV Data...\n",
            "\n",
            " CSV Data Loaded \n",
            "\n"
          ]
        }
      ]
    },
    {
      "cell_type": "code",
      "metadata": {
        "id": "RiEuaSS_8DuT",
        "colab": {
          "base_uri": "https://localhost:8080/"
        },
        "outputId": "26e9de5a-a2b9-414c-f853-1b4f114eee69"
      },
      "source": [
        "# Let's see what our training data looks like\n",
        "print(url_df)"
      ],
      "execution_count": 4,
      "outputs": [
        {
          "output_type": "stream",
          "name": "stdout",
          "text": [
            "                                                     URLs Class\n",
            "0                         freebase.com/view/en/bob_sirois  good\n",
            "1                          en.wikipedia.org/wiki/Joie_Lee  good\n",
            "2                pipl.com/directory/people/Rejean/Beaudin  good\n",
            "3       flickr.com/photos/teneyck/sets/72157610336209297/  good\n",
            "4       ussoccer.com/News/Federation-Services/2009/06/...  good\n",
            "...                                                   ...   ...\n",
            "420459  ourorigins.org/genealogielistfirstname.aspx?an...  good\n",
            "420460    simira.co.id/cifk/live.com/Account_Verified.htm   bad\n",
            "420461  kstatesports.com/sports/w-baskbl/spec-rel/ksu-...  good\n",
            "420462  vh1.com/video/living-colour/9128/cult-of-perso...  good\n",
            "420463     absoluteastronomy.com/topics/SummerSlam_(1990)  good\n",
            "\n",
            "[420464 rows x 2 columns]\n"
          ]
        }
      ]
    },
    {
      "cell_type": "code",
      "metadata": {
        "id": "hWVv0Lzl8UXi",
        "colab": {
          "base_uri": "https://localhost:8080/"
        },
        "outputId": "074d290d-3dd1-4d19-eed8-474b9bcbac77"
      },
      "source": [
        "# Perform Train/Test split\n",
        "test_percentage = .2\n",
        "\n",
        "train_df, test_df = train_test_split(url_df, test_size=test_percentage, random_state=42)\n",
        "\n",
        "labels = train_df['Class']\n",
        "test_labels = test_df['Class']\n",
        "\n",
        "print(\"\\n Split Complete \\n\")"
      ],
      "execution_count": 5,
      "outputs": [
        {
          "output_type": "stream",
          "name": "stdout",
          "text": [
            "\n",
            " Split Complete \n",
            "\n"
          ]
        }
      ]
    },
    {
      "cell_type": "code",
      "metadata": {
        "id": "sb9tYHkw9JTW",
        "colab": {
          "base_uri": "https://localhost:8080/",
          "height": 663
        },
        "outputId": "ebbdcf24-71b5-4b51-b56d-04031691916e"
      },
      "source": [
        "# Print counts of each class\n",
        "print(\"- Counting Splits -\")\n",
        "print(\"Training Samples:\", len(train_df))\n",
        "print(\"Testing Samples:\", len(test_df))\n",
        "\n",
        "# Graph counts of each class, for both training and testing\n",
        "count_train_classes = pd.value_counts(train_df['Class'])\n",
        "count_train_classes.plot(kind='bar', fontsize=16)\n",
        "plt.title(\"Class Count (Training)\", fontsize=20)\n",
        "plt.xticks(rotation='horizontal')\n",
        "plt.xlabel(\"Class\", fontsize=20)\n",
        "plt.ylabel(\"Class Count\", fontsize=20)\n",
        "\n",
        "plt.show()\n",
        "\n",
        "count_test_classes = pd.value_counts(test_df['Class'])\n",
        "count_test_classes.plot(kind='bar', fontsize=16, colormap='ocean')\n",
        "plt.title(\"Class Count (Testing)\", fontsize=20)\n",
        "plt.xticks(rotation='horizontal')\n",
        "plt.xlabel(\"Class\", fontsize=20)\n",
        "plt.ylabel(\"Class Count\", fontsize=20)\n",
        "\n",
        "plt.show()"
      ],
      "execution_count": 6,
      "outputs": [
        {
          "output_type": "stream",
          "name": "stdout",
          "text": [
            "- Counting Splits -\n",
            "Training Samples: 336371\n",
            "Testing Samples: 84093\n"
          ]
        },
        {
          "output_type": "display_data",
          "data": {
            "text/plain": [
              "<Figure size 432x288 with 1 Axes>"
            ],
            "image/png": "[encoded data removed]"
          },
          "metadata": {
            "needs_background": "light"
          }
        },
        {
          "output_type": "display_data",
          "data": {
            "text/plain": [
              "<Figure size 432x288 with 1 Axes>"
            ],
            "image/png": "[encoded data removed]"
          },
          "metadata": {
            "needs_background": "light"
          }
        }
      ]
    },
    {
      "cell_type": "markdown",
      "metadata": {
        "id": "xXws95jzBpcC"
      },
      "source": [
        "# Tokenization\n",
        "Create our tokenizer by splitting URLs into their domains, subdomains, directories, files, and extensions."
      ]
    },
    {
      "cell_type": "code",
      "metadata": {
        "id": "qp30x8Ropo_P",
        "colab": {
          "base_uri": "https://localhost:8080/"
        },
        "outputId": "be5497a6-a178-4d21-c203-baff6ab453ee"
      },
      "source": [
        "# Define tokenizer\n",
        "# The purpose of a tokenizer is to separate the features from the raw data\n",
        "\n",
        "\n",
        "def tokenizer(url):\n",
        "  \"\"\"Separates feature words from the raw data\n",
        "  Keyword arguments:\n",
        "    url ---- The full URL\n",
        "    \n",
        "  :Returns -- The tokenized words; returned as a list\n",
        "  \"\"\"\n",
        "  \n",
        "  # Split by slash (/) and dash (-)\n",
        "  tokens = re.split('[/-]', url)\n",
        "  \n",
        "  for i in tokens:\n",
        "    # Include the splits extensions and subdomains\n",
        "    if i.find(\".\") >= 0:\n",
        "      dot_split = i.split('.')\n",
        "      \n",
        "      # Remove .com and www. since they're too common\n",
        "      if \"com\" in dot_split:\n",
        "        dot_split.remove(\"com\")\n",
        "      if \"www\" in dot_split:\n",
        "        dot_split.remove(\"www\")\n",
        "      \n",
        "      tokens += dot_split\n",
        "      \n",
        "  return tokens\n",
        "    \n",
        "print(\"\\n Tokenizer defined \\n\")"
      ],
      "execution_count": 7,
      "outputs": [
        {
          "output_type": "stream",
          "name": "stdout",
          "text": [
            "\n",
            " Tokenizer defined \n",
            "\n"
          ]
        }
      ]
    },
    {
      "cell_type": "markdown",
      "metadata": {
        "id": "aAJK7U4901sx"
      },
      "source": [
        "## Task 1 - Tokenize a URL\n",
        "1. Print the full URL, **test_url**\n",
        "2. Print the results of **tokenizer(test_url)**"
      ]
    },
    {
      "cell_type": "code",
      "metadata": {
        "id": "7-ZpjlF47Coq",
        "colab": {
          "base_uri": "https://localhost:8080/"
        },
        "outputId": "2dd5bbbb-83a2-407d-b9a7-7acd136342c1"
      },
      "source": [
        "# Let's see how our tokenizer changes our URLs\n",
        "\n",
        "print(\"\\n- Full URL -\\n\")\n",
        "print(test_url)\n",
        "\n",
        "# Tokenize test URL\n",
        "print(\"\\n- Tokenized Output -\\n\")\n",
        "tokenized_url = tokenizer(test_url)\n",
        "print(tokenized_url)"
      ],
      "execution_count": 8,
      "outputs": [
        {
          "output_type": "stream",
          "name": "stdout",
          "text": [
            "\n",
            "- Full URL -\n",
            "\n",
            "ussoccer.com/News/Federation-Services/2009/06/University-Of-Miami-President-Donna-E-Shalala-Joins-Team-To-Bring-FIFA-World-Cup-To-United-States-In.aspx\n",
            "\n",
            "- Tokenized Output -\n",
            "\n",
            "['ussoccer.com', 'News', 'Federation', 'Services', '2009', '06', 'University', 'Of', 'Miami', 'President', 'Donna', 'E', 'Shalala', 'Joins', 'Team', 'To', 'Bring', 'FIFA', 'World', 'Cup', 'To', 'United', 'States', 'In.aspx', 'ussoccer', 'In', 'aspx']\n"
          ]
        }
      ]
    },
    {
      "cell_type": "markdown",
      "metadata": {
        "id": "VJnB-FFwCKse"
      },
      "source": [
        "# Vectorize the Data\n",
        "Now that the training data has been loaded, we'll train the vectorizers to turn our features into numbers.\n",
        "\n",
        "<br>\n",
        "\n",
        "Vectorization is a technique by which you can make your code execute fast."
      ]
    },
    {
      "cell_type": "markdown",
      "metadata": {
        "id": "0FpyYEaK0AXK"
      },
      "source": [
        "## Train the vectorizers\n",
        "1. Create the count vectorizer **cVec** using the **CountVectorizer** function\n",
        "2. Configure *cVec* to use the *tokenizer* function from earlier\n",
        "3. Perform **fit_transform** on *cVec* to train the vectorizer with the *training URLs*\\\n",
        "a. Save the result as **count_X**\n",
        "\n",
        "\n",
        "4. Create the TF-IDF vectorizer **tVec** using the **TfidfVectorizer** function\n",
        "5. Configure *tVec* to use the *tokenizer* function from earlier\n",
        "6. Perform **fit_transform** on *tVec* to train the vectorizer with the *training URLs*\\\n",
        "a. Save the result as **tfidf_X** "
      ]
    },
    {
      "cell_type": "code",
      "metadata": {
        "id": "XAfNGyoMCRu7",
        "colab": {
          "base_uri": "https://localhost:8080/"
        },
        "outputId": "fa5e1467-f36c-410a-f165-1cff53a6a77a"
      },
      "source": [
        "# Vectorizer the training inputs -- Takes about 30 seconds to complete\n",
        "#   There are two types of vectors:\n",
        "#     1. Count vectorizer\n",
        "#     2. Term Frequency-Inverse Document Frequency (TF-IDF)\n",
        "\n",
        "print(\"- Training Count Vectorizer -\")\n",
        "cVec = CountVectorizer(tokenizer=tokenizer)\n",
        "count_X = cVec.fit_transform(train_df['URLs'])\n",
        "\n",
        "print(\"- Training TF-IDF Vectorizer -\")\n",
        "tVec = TfidfVectorizer(tokenizer=tokenizer)\n",
        "tfidf_X = tVec.fit_transform(train_df['URLs'])\n",
        "\n",
        "\n",
        "print(\"\\n### Vectorizing Complete ###\\n\")"
      ],
      "execution_count": 9,
      "outputs": [
        {
          "output_type": "stream",
          "name": "stdout",
          "text": [
            "- Training Count Vectorizer -\n",
            "- Training TF-IDF Vectorizer -\n",
            "\n",
            "### Vectorizing Complete ###\n",
            "\n"
          ]
        }
      ]
    },
    {
      "cell_type": "markdown",
      "metadata": {
        "id": "cuOCCZ0N0ITx"
      },
      "source": [
        "## (optional) - Count the test URL tokens\n",
        "1. Print the count of each *token* from **test_url**"
      ]
    },
    {
      "cell_type": "code",
      "metadata": {
        "id": "G4LjPdSfEP5G",
        "colab": {
          "base_uri": "https://localhost:8080/"
        },
        "outputId": "c5218023-fbc2-40de-c8a0-eb6156499c63"
      },
      "source": [
        "# Manually perform term count on test_url\n",
        "for i in list(dict.fromkeys(tokenized_url)):\n",
        "  print(\"{} - {}\".format(tokenized_url.count(i), i))"
      ],
      "execution_count": 10,
      "outputs": [
        {
          "output_type": "stream",
          "name": "stdout",
          "text": [
            "1 - ussoccer.com\n",
            "1 - News\n",
            "1 - Federation\n",
            "1 - Services\n",
            "1 - 2009\n",
            "1 - 06\n",
            "1 - University\n",
            "1 - Of\n",
            "1 - Miami\n",
            "1 - President\n",
            "1 - Donna\n",
            "1 - E\n",
            "1 - Shalala\n",
            "1 - Joins\n",
            "1 - Team\n",
            "2 - To\n",
            "1 - Bring\n",
            "1 - FIFA\n",
            "1 - World\n",
            "1 - Cup\n",
            "1 - United\n",
            "1 - States\n",
            "1 - In.aspx\n",
            "1 - ussoccer\n",
            "1 - In\n",
            "1 - aspx\n"
          ]
        }
      ]
    },
    {
      "cell_type": "markdown",
      "metadata": {
        "id": "1iT2Ymr90Ryr"
      },
      "source": [
        "## (optional) - View the test URL vectorizers\n",
        "1. Create a new **CountVectorizer** and **TfidfVectorizer** for demonstration\n",
        "2. Train the new vectorizers on **test_url** using **fit_transform**\n",
        "3. Print the results of each *transform*"
      ]
    },
    {
      "cell_type": "code",
      "metadata": {
        "id": "FjguwTHgDLBQ",
        "colab": {
          "base_uri": "https://localhost:8080/"
        },
        "outputId": "3a521ad3-c966-4699-9a4e-036e49de099f"
      },
      "source": [
        "example_cVec = CountVectorizer(tokenizer=tokenizer)\n",
        "example_X = example_cVec.fit_transform([test_url])\n",
        "\n",
        "print(\"\\n- Count Vectorizer (Test URL) -\\n\")\n",
        "print(example_X)\n",
        "\n",
        "print()\n",
        "print(\"=\" * 50)\n",
        "print()\n",
        "\n",
        "example_tVec = TfidfVectorizer(tokenizer=tokenizer)\n",
        "example_X = example_tVec.fit_transform([test_url])\n",
        "\n",
        "print(\"\\n- TFIDF Vectorizer (Test URL) -\\n\")\n",
        "print(example_X)"
      ],
      "execution_count": 11,
      "outputs": [
        {
          "output_type": "stream",
          "name": "stdout",
          "text": [
            "\n",
            "- Count Vectorizer (Test URL) -\n",
            "\n",
            "  (0, 24)\t1\n",
            "  (0, 13)\t1\n",
            "  (0, 7)\t1\n",
            "  (0, 16)\t1\n",
            "  (0, 1)\t1\n",
            "  (0, 0)\t1\n",
            "  (0, 22)\t1\n",
            "  (0, 14)\t1\n",
            "  (0, 12)\t1\n",
            "  (0, 15)\t1\n",
            "  (0, 5)\t1\n",
            "  (0, 6)\t1\n",
            "  (0, 17)\t1\n",
            "  (0, 11)\t1\n",
            "  (0, 19)\t1\n",
            "  (0, 20)\t2\n",
            "  (0, 3)\t1\n",
            "  (0, 8)\t1\n",
            "  (0, 25)\t1\n",
            "  (0, 4)\t1\n",
            "  (0, 21)\t1\n",
            "  (0, 18)\t1\n",
            "  (0, 10)\t1\n",
            "  (0, 23)\t1\n",
            "  (0, 9)\t1\n",
            "  (0, 2)\t1\n",
            "\n",
            "==================================================\n",
            "\n",
            "\n",
            "- TFIDF Vectorizer (Test URL) -\n",
            "\n",
            "  (0, 2)\t0.18569533817705186\n",
            "  (0, 9)\t0.18569533817705186\n",
            "  (0, 23)\t0.18569533817705186\n",
            "  (0, 10)\t0.18569533817705186\n",
            "  (0, 18)\t0.18569533817705186\n",
            "  (0, 21)\t0.18569533817705186\n",
            "  (0, 4)\t0.18569533817705186\n",
            "  (0, 25)\t0.18569533817705186\n",
            "  (0, 8)\t0.18569533817705186\n",
            "  (0, 3)\t0.18569533817705186\n",
            "  (0, 20)\t0.3713906763541037\n",
            "  (0, 19)\t0.18569533817705186\n",
            "  (0, 11)\t0.18569533817705186\n",
            "  (0, 17)\t0.18569533817705186\n",
            "  (0, 6)\t0.18569533817705186\n",
            "  (0, 5)\t0.18569533817705186\n",
            "  (0, 15)\t0.18569533817705186\n",
            "  (0, 12)\t0.18569533817705186\n",
            "  (0, 14)\t0.18569533817705186\n",
            "  (0, 22)\t0.18569533817705186\n",
            "  (0, 0)\t0.18569533817705186\n",
            "  (0, 1)\t0.18569533817705186\n",
            "  (0, 16)\t0.18569533817705186\n",
            "  (0, 7)\t0.18569533817705186\n",
            "  (0, 13)\t0.18569533817705186\n",
            "  (0, 24)\t0.18569533817705186\n"
          ]
        }
      ]
    },
    {
      "cell_type": "markdown",
      "metadata": {
        "id": "UzC_VgqEE7mh"
      },
      "source": [
        "# Test and Evaluate the Models\n",
        "OK, we have our training data loaded and our testing data loaded. Now it's time to train and evaluate our models.\n",
        "\n",
        "But first, we're going to define a helper function to display our evaluation reports."
      ]
    },
    {
      "cell_type": "markdown",
      "metadata": {
        "id": "oybCUH9tzuJN"
      },
      "source": [
        "## Vectorize the testing data\n",
        "1. Use **cVec** to *transform* **test_df['URLs']**\\\n",
        "a. Save the result as **test_count_X**\n",
        "\n",
        "2. Use **tVec** to *transform* **test_df['URLs']**\\\n",
        "a. Save the result as **test_tfidf_X**"
      ]
    },
    {
      "cell_type": "code",
      "metadata": {
        "id": "gYfQhPItHBjz",
        "colab": {
          "base_uri": "https://localhost:8080/"
        },
        "outputId": "4fe1c310-82f2-4f3f-b3e4-f1f0fd81d14c"
      },
      "source": [
        "# Vectorize the testing inputs\n",
        "#   Use 'transform' instead of 'fit_transform' because we've already trained our vectorizers\n",
        "\n",
        "print(\"- Count Vectorizer -\")\n",
        "test_count_X = cVec.transform(test_df['URLs'])\n",
        "\n",
        "print(\"- TFIDF Vectorizer -\")\n",
        "test_tfidf_X = tVec.transform(test_df['URLs'])\n",
        "\n",
        "\n",
        "print(\"\\n### Vectorizing Complete ###\\n\")"
      ],
      "execution_count": 12,
      "outputs": [
        {
          "output_type": "stream",
          "name": "stdout",
          "text": [
            "- Count Vectorizer -\n",
            "- TFIDF Vectorizer -\n",
            "\n",
            "### Vectorizing Complete ###\n",
            "\n"
          ]
        }
      ]
    },
    {
      "cell_type": "code",
      "metadata": {
        "id": "32pzJ3naFICU",
        "colab": {
          "base_uri": "https://localhost:8080/"
        },
        "outputId": "dc845479-322f-4a7f-b5d3-5179adb02226"
      },
      "source": [
        "# Define report generator\n",
        "\n",
        "def generate_report(cmatrix, score, creport):\n",
        "  \"\"\"Generates and displays graphical reports\n",
        "  Keyword arguments:\n",
        "    cmatrix - Confusion matrix generated by the model\n",
        "    score --- Score generated by the model\n",
        "    creport - Classification Report generated by the model\n",
        "    \n",
        "  :Returns -- N/A\n",
        "  \"\"\"\n",
        "  \n",
        "  # Transform cmatrix because Sklearn has pred as columns and actual as rows.\n",
        "  cmatrix = cmatrix.T\n",
        "  \n",
        "  # Generate confusion matrix heatmap\n",
        "  plt.figure(figsize=(5,5))\n",
        "  sns.heatmap(cmatrix, \n",
        "              annot=True, \n",
        "              fmt=\"d\", \n",
        "              linewidths=.5, \n",
        "              square = True, \n",
        "              cmap = 'Blues', \n",
        "              annot_kws={\"size\": 16}, \n",
        "              xticklabels=['bad', 'good'],\n",
        "              yticklabels=['bad', 'good'])\n",
        "\n",
        "  plt.xticks(rotation='horizontal', fontsize=16)\n",
        "  plt.yticks(rotation='horizontal', fontsize=16)\n",
        "  plt.xlabel('Actual Label', size=20);\n",
        "  plt.ylabel('Predicted Label', size=20);\n",
        "\n",
        "  title = 'Accuracy Score: {0:.4f}'.format(score)\n",
        "  plt.title(title, size = 20);\n",
        "\n",
        "  # Display classification report and confusion matrix\n",
        "  print(creport)\n",
        "  plt.show()\n",
        "  \n",
        "\n",
        "print(\"\\n### Report Generator Defined ###\\n\")"
      ],
      "execution_count": 13,
      "outputs": [
        {
          "output_type": "stream",
          "name": "stdout",
          "text": [
            "\n",
            "### Report Generator Defined ###\n",
            "\n"
          ]
        }
      ]
    },
    {
      "cell_type": "markdown",
      "metadata": {
        "id": "BOMP_-ymzbuo"
      },
      "source": [
        "## a - Train and evaluate the MNB-TFIDF model\n",
        "1. Create **mnb_tfidf** as a **MultinomialNB()** constructor\n",
        "2. Use **fit** to train *mnb_tfidf* on the training data (*tfidf_X*) and training labels (*labels*)\n",
        "3. Evaluate the model with the testing data (*test_tfidf_X*) and testing labels (*test_labels*):\\\n",
        "a. Use the **score** function in *mnb_tfidf* to calculate model accuracy; save the results as **score_mnb_tfidf**\\\n",
        "b. Use the **predict** function in *mnb_tfidf* to generate model predictions; save the results as **predictions_mnb_tfidf**\\\n",
        "c. Generate the confusion matrix with **confusion_matrix**, using the predictons and labels; save the results as **cmatrix_mnb_tfidf**\\\n",
        "d. Generate the classification report with **classification_report**, using the predictions and labels; save the results as **creport_mnb_tfidf**"
      ]
    },
    {
      "cell_type": "code",
      "metadata": {
        "id": "N_8Ii5LnFUMy",
        "colab": {
          "base_uri": "https://localhost:8080/",
          "height": 531
        },
        "outputId": "8f809de8-a61a-4b7b-9b77-45722783da6c"
      },
      "source": [
        "# Multinomial Naive Bayesian with TF-IDF\n",
        "\n",
        "# Train the model\n",
        "#mnb_tfidf = MultinomialNB(alpha = .1)\n",
        "mnb_tfidf = MultinomialNB()\n",
        "mnb_tfidf.fit(tfidf_X, labels)\n",
        "\n",
        "\n",
        "# Test the mode (score, predictions, confusion matrix, classification report)\n",
        "score_mnb_tfidf = mnb_tfidf.score(test_tfidf_X, test_labels)\n",
        "predictions_mnb_tfidf = mnb_tfidf.predict(test_tfidf_X)\n",
        "cmatrix_mnb_tfidf = confusion_matrix(test_labels, predictions_mnb_tfidf)\n",
        "creport_mnb_tfidf = classification_report(test_labels, predictions_mnb_tfidf)\n",
        "\n",
        "print(\"\\n### Model Built ###\\n\")\n",
        "generate_report(cmatrix_mnb_tfidf, score_mnb_tfidf, creport_mnb_tfidf)"
      ],
      "execution_count": 14,
      "outputs": [
        {
          "output_type": "stream",
          "name": "stdout",
          "text": [
            "\n",
            "### Model Built ###\n",
            "\n",
            "              precision    recall  f1-score   support\n",
            "\n",
            "         bad       0.99      0.82      0.90     15136\n",
            "        good       0.96      1.00      0.98     68957\n",
            "\n",
            "    accuracy                           0.97     84093\n",
            "   macro avg       0.98      0.91      0.94     84093\n",
            "weighted avg       0.97      0.97      0.97     84093\n",
            "\n"
          ]
        },
        {
          "output_type": "display_data",
          "data": {
            "text/plain": [
              "<Figure size 360x360 with 2 Axes>"
            ],
            "image/png": "[encoded data removed]"
          },
          "metadata": {
            "needs_background": "light"
          }
        }
      ]
    },
    {
      "cell_type": "markdown",
      "metadata": {
        "id": "BOYVD36UzYLp"
      },
      "source": [
        "## b - Train and evaluate the MNB-Count model\n",
        "1. Create **mnb_count** as a **MultinomialNB()** constructor\n",
        "2. Use **fit** to train *mnb_count* on the training data (*count_X*) and training labels (*labels*)\n",
        "3. Evaluate the model with the testing data (*test_count_X*) and testing labels (*test_labels*):\\\n",
        "a. Use the **score** function in *mnb_count* to calculate model accuracy; save the results as **score_mnb_count**\\\n",
        "b. Use the **predict** function in *mnb_count* to generate model predictions; save the results as **predictions_mnb_count**\\\n",
        "c. Generate the confusion matrix with **confusion_matrix**, using the predictons and labels; save the results as **cmatrix_mnb_count**\\\n",
        "d. Generate the classification report with **classification_report**, using the predictions and labels; save the results as **creport_mnb_count**"
      ]
    },
    {
      "cell_type": "code",
      "metadata": {
        "id": "qOl4-P-vHy76",
        "colab": {
          "base_uri": "https://localhost:8080/",
          "height": 531
        },
        "outputId": "e4189082-8b72-48d2-f9d3-163a48d97b3e"
      },
      "source": [
        "# Multinomial Naive Bayesian with Count Vectorizer\n",
        "\n",
        "# Train the model\n",
        "mnb_count = MultinomialNB()\n",
        "mnb_count.fit(count_X, labels)\n",
        "\n",
        "\n",
        "# Test the mode (score, predictions, confusion matrix, classification report)\n",
        "score_mnb_count = mnb_count.score(test_count_X, test_labels)\n",
        "predictions_mnb_count = mnb_count.predict(test_count_X)\n",
        "cmatrix_mnb_count = confusion_matrix(test_labels, predictions_mnb_count)\n",
        "creport_mnb_count = classification_report(test_labels, predictions_mnb_count)\n",
        "\n",
        "print(\"\\n### Model Built ###\\n\")\n",
        "generate_report(cmatrix_mnb_count, score_mnb_count, creport_mnb_count)"
      ],
      "execution_count": 15,
      "outputs": [
        {
          "output_type": "stream",
          "name": "stdout",
          "text": [
            "\n",
            "### Model Built ###\n",
            "\n",
            "              precision    recall  f1-score   support\n",
            "\n",
            "         bad       0.97      0.90      0.93     15136\n",
            "        good       0.98      0.99      0.99     68957\n",
            "\n",
            "    accuracy                           0.98     84093\n",
            "   macro avg       0.98      0.95      0.96     84093\n",
            "weighted avg       0.98      0.98      0.98     84093\n",
            "\n"
          ]
        },
        {
          "output_type": "display_data",
          "data": {
            "text/plain": [
              "<Figure size 360x360 with 2 Axes>"
            ],
            "image/png": "[encoded data removed]"
          },
          "metadata": {
            "needs_background": "light"
          }
        }
      ]
    },
    {
      "cell_type": "markdown",
      "metadata": {
        "id": "LzpIslDdzVJh"
      },
      "source": [
        "## c - Train and evaluate the LGS-TFIDF model\n",
        "1. Create **lgs_tfidf** as a **LogisticRegression()** constructor, using the **lbfgs** *solver*\n",
        "2. Use **fit** to train *lgs_tfidf* on the training data (*tfidf_X*) and training labels (*labels*)\n",
        "3. Evaluate the model with the testing data (*test_tfidf_X*) and testing labels (*test_labels*):\\\n",
        "a. Use the **score** function in *lgs_tfidf* to calculate model accuracy; save the results as **score_lgs_tfidf**\\\n",
        "b. Use the **predict** function in *lgs_tfidf* to generate model predictions; save the results as **predictions_lgs_tfidf**\\\n",
        "c. Generate the confusion matrix with **confusion_matrix**, using the predictons and labels; save the results as **cmatrix_lgs_tfidf**\\\n",
        "d. Generate the classification report with **classification_report**, using the predictions and labels; save the results as **creport_lgs_tfidf**"
      ]
    },
    {
      "cell_type": "code",
      "metadata": {
        "id": "C5x6-hlkItbB",
        "colab": {
          "base_uri": "https://localhost:8080/",
          "height": 670
        },
        "outputId": "43c2f0f0-645f-42e9-bc3d-f066062d9859"
      },
      "source": [
        "# Logistic Regression with TF-IDF\n",
        "\n",
        "# Train the model\n",
        "lgs_tfidf = LogisticRegression(solver='lbfgs')\n",
        "lgs_tfidf.fit(tfidf_X, labels)\n",
        "\n",
        "\n",
        "# Test the mode (score, predictions, confusion matrix, classification report)\n",
        "score_lgs_tfidf = lgs_tfidf.score(test_tfidf_X, test_labels)\n",
        "predictions_lgs_tfidf = lgs_tfidf.predict(test_tfidf_X)\n",
        "cmatrix_lgs_tfidf = confusion_matrix(test_labels, predictions_lgs_tfidf)\n",
        "creport_lgs_tfidf = classification_report(test_labels, predictions_lgs_tfidf)\n",
        "\n",
        "print(\"\\n### Model Built ###\\n\")\n",
        "generate_report(cmatrix_lgs_tfidf, score_lgs_tfidf, creport_lgs_tfidf)"
      ],
      "execution_count": 16,
      "outputs": [
        {
          "output_type": "stream",
          "name": "stderr",
          "text": [
            "/usr/local/lib/python3.7/dist-packages/sklearn/linear_model/_logistic.py:818: ConvergenceWarning: lbfgs failed to converge (status=1):\n",
            "STOP: TOTAL NO. of ITERATIONS REACHED LIMIT.\n",
            "\n",
            "Increase the number of iterations (max_iter) or scale the data as shown in:\n",
            "    https://scikit-learn.org/stable/modules/preprocessing.html\n",
            "Please also refer to the documentation for alternative solver options:\n",
            "    https://scikit-learn.org/stable/modules/linear_model.html#logistic-regression\n",
            "  extra_warning_msg=_LOGISTIC_SOLVER_CONVERGENCE_MSG,\n"
          ]
        },
        {
          "output_type": "stream",
          "name": "stdout",
          "text": [
            "\n",
            "### Model Built ###\n",
            "\n",
            "              precision    recall  f1-score   support\n",
            "\n",
            "         bad       0.96      0.83      0.89     15136\n",
            "        good       0.96      0.99      0.98     68957\n",
            "\n",
            "    accuracy                           0.96     84093\n",
            "   macro avg       0.96      0.91      0.93     84093\n",
            "weighted avg       0.96      0.96      0.96     84093\n",
            "\n"
          ]
        },
        {
          "output_type": "display_data",
          "data": {
            "text/plain": [
              "<Figure size 360x360 with 2 Axes>"
            ],
            "image/png": "[encoded data removed]"
          },
          "metadata": {
            "needs_background": "light"
          }
        }
      ]
    },
    {
      "cell_type": "markdown",
      "metadata": {
        "id": "Kd2S7nCzzIpX"
      },
      "source": [
        "## d - Train and evaluate the LGS-Count model\n",
        "1. Create **lgs_count** as a **LogisticRegression()** constructor, using the **lbfgs** *solver*\n",
        "2. Use **fit** to train *lgs_count* on the training data (*count_X*) and training labels (*labels*)\n",
        "3. Evaluate the model with the testing data (*test_count_X*) and testing labels (*test_labels*):\\\n",
        "a. Use the **score** function in *lgs_count* to calculate model accuracy; save the results as **score_lgs_count**\\\n",
        "b. Use the **predict** function in *lgs_count* to generate model predictions; save the results as **predictions_lgs_count**\\\n",
        "c. Generate the confusion matrix with **confusion_matrix**, using the predictons and labels; save the results as **cmatrix_lgs_count**\\\n",
        "d. Generate the classification report with **classification_report**, using the predictions and labels; save the results as **creport_lgs_count**"
      ]
    },
    {
      "cell_type": "code",
      "metadata": {
        "id": "2OTvv0tLItrM",
        "colab": {
          "base_uri": "https://localhost:8080/",
          "height": 670
        },
        "outputId": "b99ec841-3aa6-4951-9d6a-70e231398771"
      },
      "source": [
        "# Logistic Regression with Count Vectorizer\n",
        "\n",
        "# Train the model\n",
        "lgs_count = LogisticRegression(solver='lbfgs')\n",
        "lgs_count.fit(count_X, labels)\n",
        "\n",
        "\n",
        "# Test the mode (score, predictions, confusion matrix, classification report)\n",
        "score_lgs_count = lgs_count.score(test_count_X, test_labels)\n",
        "predictions_lgs_count = lgs_count.predict(test_count_X)\n",
        "cmatrix_lgs_count = confusion_matrix(test_labels, predictions_lgs_count)\n",
        "creport_lgs_count = classification_report(test_labels, predictions_lgs_count)\n",
        "\n",
        "print(\"\\n### Model Built ###\\n\")\n",
        "generate_report(cmatrix_lgs_count, score_lgs_count, creport_lgs_count)"
      ],
      "execution_count": 17,
      "outputs": [
        {
          "output_type": "stream",
          "name": "stderr",
          "text": [
            "/usr/local/lib/python3.7/dist-packages/sklearn/linear_model/_logistic.py:818: ConvergenceWarning: lbfgs failed to converge (status=1):\n",
            "STOP: TOTAL NO. of ITERATIONS REACHED LIMIT.\n",
            "\n",
            "Increase the number of iterations (max_iter) or scale the data as shown in:\n",
            "    https://scikit-learn.org/stable/modules/preprocessing.html\n",
            "Please also refer to the documentation for alternative solver options:\n",
            "    https://scikit-learn.org/stable/modules/linear_model.html#logistic-regression\n",
            "  extra_warning_msg=_LOGISTIC_SOLVER_CONVERGENCE_MSG,\n"
          ]
        },
        {
          "output_type": "stream",
          "name": "stdout",
          "text": [
            "\n",
            "### Model Built ###\n",
            "\n",
            "              precision    recall  f1-score   support\n",
            "\n",
            "         bad       0.97      0.87      0.92     15136\n",
            "        good       0.97      0.99      0.98     68957\n",
            "\n",
            "    accuracy                           0.97     84093\n",
            "   macro avg       0.97      0.93      0.95     84093\n",
            "weighted avg       0.97      0.97      0.97     84093\n",
            "\n"
          ]
        },
        {
          "output_type": "display_data",
          "data": {
            "text/plain": [
              "<Figure size 360x360 with 2 Axes>"
            ],
            "image/png": "[encoded data removed]"
          },
          "metadata": {
            "needs_background": "light"
          }
        }
      ]
    }
  ]
}